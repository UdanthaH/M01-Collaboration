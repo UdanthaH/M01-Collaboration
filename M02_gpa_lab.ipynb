{
 "cells": [
  {
   "cell_type": "code",
   "execution_count": 5,
   "id": "8e73dcca-2338-42c7-9310-c6597d5891bf",
   "metadata": {},
   "outputs": [
    {
     "name": "stdin",
     "output_type": "stream",
     "text": [
      "Enter the student's last name (or 'ZZZ' to quit):  Johnson\n",
      "Enter the student's first name:  Alice \n",
      "Enter the student's GPA:  3.45\n"
     ]
    },
    {
     "name": "stdout",
     "output_type": "stream",
     "text": [
      "Alice  Johnson has made the Honor Roll.\n"
     ]
    },
    {
     "name": "stdin",
     "output_type": "stream",
     "text": [
      "Enter the student's last name (or 'ZZZ' to quit):  Smith\n",
      "Enter the student's first name:  Bob\n",
      "Enter the student's GPA:  3.30\n"
     ]
    },
    {
     "name": "stdout",
     "output_type": "stream",
     "text": [
      "Bob Smith has made the Honor Roll.\n"
     ]
    },
    {
     "name": "stdin",
     "output_type": "stream",
     "text": [
      "Enter the student's last name (or 'ZZZ' to quit):  White\n",
      "Enter the student's first name:  Carol \n",
      "Enter the student's GPA:  3.27\n"
     ]
    },
    {
     "name": "stdout",
     "output_type": "stream",
     "text": [
      "Carol  White has made the Honor Roll.\n"
     ]
    },
    {
     "name": "stdin",
     "output_type": "stream",
     "text": [
      "Enter the student's last name (or 'ZZZ' to quit):  Brown\n",
      "Enter the student's first name:  David \n",
      "Enter the student's GPA:  3.48\n"
     ]
    },
    {
     "name": "stdout",
     "output_type": "stream",
     "text": [
      "David  Brown has made the Honor Roll.\n"
     ]
    },
    {
     "name": "stdin",
     "output_type": "stream",
     "text": [
      "Enter the student's last name (or 'ZZZ' to quit):  Davis\n",
      "Enter the student's first name:  Eve \n",
      "Enter the student's GPA:  3.33\n"
     ]
    },
    {
     "name": "stdout",
     "output_type": "stream",
     "text": [
      "Eve  Davis has made the Honor Roll.\n"
     ]
    },
    {
     "name": "stdin",
     "output_type": "stream",
     "text": [
      "Enter the student's last name (or 'ZZZ' to quit):  ZZZ\n"
     ]
    },
    {
     "name": "stdout",
     "output_type": "stream",
     "text": [
      "Finished processing student records.\n"
     ]
    }
   ],
   "source": [
    "# Name: Udantha Herath\n",
    "# File Name: student_gpa.py\n",
    "# Description: Take student names and GPAs and tests if the student qualifies for the Dean's List or the Honor Roll.\n",
    "\n",
    "def main():\n",
    "    while True:\n",
    "        # Accept the student's last name\n",
    "        last_name = input(\"Enter the student's last name (or 'ZZZ' to quit): \")\n",
    "        if last_name == 'ZZZ':\n",
    "            break\n",
    "        \n",
    "        # Accept the student's first name\n",
    "        first_name = input(\"Enter the student's first name: \")\n",
    "        \n",
    "        # Accept the student's GPA\n",
    "        try:\n",
    "            gpa = float(input(\"Enter the student's GPA: \"))\n",
    "        except ValueError:\n",
    "            print(\"Invalid GPA. Please enter a numeric value.\")\n",
    "            continue\n",
    "        \n",
    "        # Check if the student qualifies for the Dean's List or Honor Roll\n",
    "        if gpa >= 3.5:\n",
    "            print(f\"{first_name} {last_name} has made the Dean's List.\")\n",
    "        elif gpa >= 3.25:\n",
    "            print(f\"{first_name} {last_name} has made the Honor Roll.\")\n",
    "        else:\n",
    "            print(f\"{first_name} {last_name} does not qualify for the Dean's List or the Honor Roll.\")\n",
    "    \n",
    "    print(\"Finished processing student records.\")\n",
    "\n",
    "# Test the app with at least five students\n",
    "if __name__ == \"__main__\":\n",
    "    main()\n"
   ]
  },
  {
   "cell_type": "code",
   "execution_count": null,
   "id": "bbe94d07-6c51-446f-93b9-28e87f939e1d",
   "metadata": {},
   "outputs": [],
   "source": []
  }
 ],
 "metadata": {
  "kernelspec": {
   "display_name": "Python 3 (ipykernel)",
   "language": "python",
   "name": "python3"
  },
  "language_info": {
   "codemirror_mode": {
    "name": "ipython",
    "version": 3
   },
   "file_extension": ".py",
   "mimetype": "text/x-python",
   "name": "python",
   "nbconvert_exporter": "python",
   "pygments_lexer": "ipython3",
   "version": "3.11.7"
  }
 },
 "nbformat": 4,
 "nbformat_minor": 5
}
