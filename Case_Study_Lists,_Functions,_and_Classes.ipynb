{
 "cells": [
  {
   "cell_type": "code",
   "execution_count": 1,
   "id": "a40b0766-2272-4f72-bb42-0ac9feb41c8f",
   "metadata": {},
   "outputs": [
    {
     "name": "stdin",
     "output_type": "stream",
     "text": [
      "Enter the year:  2022\n",
      "Enter the make:  toyota\n",
      "Enter the model:  corolla\n",
      "Enter the number of doors (2 or 4):  4\n",
      "Enter the type of roof (solid or sun roof):  sun roof\n"
     ]
    },
    {
     "name": "stdout",
     "output_type": "stream",
     "text": [
      "\n",
      "Vehicle Details:\n",
      "Vehicle type: car\n",
      "Year: 2022\n",
      "Make: toyota\n",
      "Model: corolla\n",
      "Number of doors: 4\n",
      "Type of roof: sun roof\n"
     ]
    }
   ],
   "source": [
    "# Vehicle class\n",
    "class Vehicle:\n",
    "    def __init__(self, vehicle_type):\n",
    "        self.vehicle_type = vehicle_type\n",
    "\n",
    "# Automobile Subclass\n",
    "class Automobile(Vehicle):\n",
    "    def __init__(self, vehicle_type, year, make, model, doors, roof):\n",
    "        super().__init__(vehicle_type)\n",
    "        self.year = year\n",
    "        self.make = make\n",
    "        self.model = model\n",
    "        self.doors = doors\n",
    "        self.roof = roof\n",
    "\n",
    "# Gather car details\n",
    "def get_car_details():\n",
    "    vehicle_type = \"car\"\n",
    "    year = input(\"Enter the year: \")\n",
    "    make = input(\"Enter the make: \")\n",
    "    model = input(\"Enter the model: \")\n",
    "    doors = input(\"Enter the number of doors (2 or 4): \")\n",
    "    roof = input(\"Enter the type of roof (solid or sun roof): \")\n",
    "\n",
    "    car = Automobile(vehicle_type, year, make, model, doors, roof)\n",
    "    return car\n",
    "\n",
    "# Display car details\n",
    "def display_car_details(car):\n",
    "    print(\"\\nVehicle Details:\")\n",
    "    print(f\"Vehicle type: {car.vehicle_type}\")\n",
    "    print(f\"Year: {car.year}\")\n",
    "    print(f\"Make: {car.make}\")\n",
    "    print(f\"Model: {car.model}\")\n",
    "    print(f\"Number of doors: {car.doors}\")\n",
    "    print(f\"Type of roof: {car.roof}\")\n",
    "\n",
    "def main():\n",
    "    car = get_car_details()\n",
    "    display_car_details(car)\n",
    "\n",
    "if __name__ == \"__main__\":\n",
    "    main()\n"
   ]
  },
  {
   "cell_type": "code",
   "execution_count": null,
   "id": "08d2ec40-6180-446c-ac7b-e5f84acf8b1e",
   "metadata": {},
   "outputs": [],
   "source": []
  }
 ],
 "metadata": {
  "kernelspec": {
   "display_name": "Python 3 (ipykernel)",
   "language": "python",
   "name": "python3"
  },
  "language_info": {
   "codemirror_mode": {
    "name": "ipython",
    "version": 3
   },
   "file_extension": ".py",
   "mimetype": "text/x-python",
   "name": "python",
   "nbconvert_exporter": "python",
   "pygments_lexer": "ipython3",
   "version": "3.11.7"
  }
 },
 "nbformat": 4,
 "nbformat_minor": 5
}
