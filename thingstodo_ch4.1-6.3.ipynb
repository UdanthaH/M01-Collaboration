{
 "cells": [
  {
   "cell_type": "code",
   "execution_count": 3,
   "id": "cc8eb56e-a945-4f3e-b2c9-21760c7be155",
   "metadata": {},
   "outputs": [
    {
     "name": "stdout",
     "output_type": "stream",
     "text": [
      "too high\n",
      "cherry\n"
     ]
    }
   ],
   "source": [
    "# Task 4.1\n",
    "# Choose a number between 1 and 10 and assign it to the variable secret.\n",
    "secret = 4\n",
    "\n",
    "# Choose another number between 1 and 10 and assign it to the variable guess.\n",
    "guess = 8\n",
    "\n",
    "# Write conditional statements to compare guess with secret.\n",
    "if guess < secret:\n",
    "    print('too low')\n",
    "elif guess > secret:\n",
    "    print('too high')\n",
    "else:\n",
    "    print('just right')\n",
    "\n",
    "# Task 4.2\n",
    "# Assign True or False to the variables small and green.\n",
    "small = True\n",
    "green = False\n",
    "\n",
    "# Write conditional statements to print which fruit or vegetable matches the combination of small and green.\n",
    "if small:\n",
    "    if green:\n",
    "        print('pea')\n",
    "    else:\n",
    "        print('cherry')\n",
    "else:\n",
    "    if green:\n",
    "        print('watermelon')\n",
    "    else:\n",
    "        print('pumpkin')\n"
   ]
  },
  {
   "cell_type": "code",
   "execution_count": null,
   "id": "a9a0f2cc-36f3-469c-8ffc-72f3f7fe3d11",
   "metadata": {},
   "outputs": [],
   "source": []
  }
 ],
 "metadata": {
  "kernelspec": {
   "display_name": "Python 3 (ipykernel)",
   "language": "python",
   "name": "python3"
  },
  "language_info": {
   "codemirror_mode": {
    "name": "ipython",
    "version": 3
   },
   "file_extension": ".py",
   "mimetype": "text/x-python",
   "name": "python",
   "nbconvert_exporter": "python",
   "pygments_lexer": "ipython3",
   "version": "3.11.7"
  }
 },
 "nbformat": 4,
 "nbformat_minor": 5
}
