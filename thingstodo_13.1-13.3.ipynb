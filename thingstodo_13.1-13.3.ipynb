{
 "cells": [
  {
   "cell_type": "code",
   "execution_count": 11,
   "id": "60920f66-860f-46b4-9230-8d851e3e06f5",
   "metadata": {},
   "outputs": [
    {
     "name": "stdout",
     "output_type": "stream",
     "text": [
      "Original date: 2024-07-14\n",
      "String read from file: 2024-07-14\n",
      "Parsed date: 2024-07-14\n"
     ]
    }
   ],
   "source": [
    "from datetime import date, datetime\n",
    "\n",
    "# 13.1 text file today.txt\n",
    "today = date.today()\n",
    "today_string = today.isoformat()  # 'YYYY-MM-DD'\n",
    "with open('today.txt', 'w') as file:\n",
    "    file.write(today_string)\n",
    "\n",
    "# 13.2 string today_string\n",
    "with open('today.txt', 'r') as file:\n",
    "    today_string = file.read()\n",
    "\n",
    "# 13.3 date from today_string\n",
    "parsed_date = datetime.strptime(today_string, '%Y-%m-%d').date()\n",
    "\n",
    "# Verify the result\n",
    "print(\"Original date:\", today)\n",
    "print(\"String read from file:\", today_string)\n",
    "print(\"Parsed date:\", parsed_date)\n"
   ]
  },
  {
   "cell_type": "code",
   "execution_count": null,
   "id": "18ac3c11-197a-42e4-9251-20f3a07ea625",
   "metadata": {},
   "outputs": [],
   "source": []
  }
 ],
 "metadata": {
  "kernelspec": {
   "display_name": "Python 3 (ipykernel)",
   "language": "python",
   "name": "python3"
  },
  "language_info": {
   "codemirror_mode": {
    "name": "ipython",
    "version": 3
   },
   "file_extension": ".py",
   "mimetype": "text/x-python",
   "name": "python",
   "nbconvert_exporter": "python",
   "pygments_lexer": "ipython3",
   "version": "3.11.7"
  }
 },
 "nbformat": 4,
 "nbformat_minor": 5
}
