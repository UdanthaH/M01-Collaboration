{
 "cells": [
  {
   "cell_type": "code",
   "execution_count": 1,
   "id": "d20e2c58-c604-4fba-afb8-c327704e69dc",
   "metadata": {},
   "outputs": [
    {
     "name": "stderr",
     "output_type": "stream",
     "text": [
      "test_add_negative_numbers (__main__.TestAddFunction.test_add_negative_numbers) ... ok\n",
      "test_add_positive_numbers (__main__.TestAddFunction.test_add_positive_numbers) ... ok\n",
      "test_add_zero (__main__.TestAddFunction.test_add_zero) ... ok\n",
      "\n",
      "----------------------------------------------------------------------\n",
      "Ran 3 tests in 0.008s\n",
      "\n",
      "OK\n"
     ]
    }
   ],
   "source": [
    "def add(a, b):\n",
    "    return a + b\n",
    "\n",
    "import unittest\n",
    "\n",
    "class TestAddFunction(unittest.TestCase):\n",
    "    def test_add_positive_numbers(self):\n",
    "        self.assertEqual(add(1, 2), 3)\n",
    "        \n",
    "    def test_add_negative_numbers(self):\n",
    "        self.assertEqual(add(-1, -1), -2)\n",
    "        \n",
    "    def test_add_zero(self):\n",
    "        self.assertEqual(add(0, 0), 0)\n",
    "\n",
    "def run_tests():\n",
    "    suite = unittest.TestLoader().loadTestsFromTestCase(TestAddFunction)\n",
    "    unittest.TextTestRunner(verbosity=2).run(suite)\n",
    "\n",
    "run_tests()\n"
   ]
  },
  {
   "cell_type": "code",
   "execution_count": null,
   "id": "eb469012-dc67-4a2d-b234-838d427adbe0",
   "metadata": {},
   "outputs": [],
   "source": []
  }
 ],
 "metadata": {
  "kernelspec": {
   "display_name": "Python 3 (ipykernel)",
   "language": "python",
   "name": "python3"
  },
  "language_info": {
   "codemirror_mode": {
    "name": "ipython",
    "version": 3
   },
   "file_extension": ".py",
   "mimetype": "text/x-python",
   "name": "python",
   "nbconvert_exporter": "python",
   "pygments_lexer": "ipython3",
   "version": "3.11.7"
  }
 },
 "nbformat": 4,
 "nbformat_minor": 5
}
