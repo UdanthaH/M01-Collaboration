{
 "cells": [
  {
   "cell_type": "code",
   "execution_count": 1,
   "id": "f6d7f0a5-09fa-4a0d-aa54-be6e8709691f",
   "metadata": {},
   "outputs": [
    {
     "name": "stdout",
     "output_type": "stream",
     "text": [
      "['mozzarella', 'cinderella', 'salmonella']\n",
      "['mozzarella', 'Cinderella', 'salmonella']\n",
      "['MOZZARELLA', 'Cinderella', 'salmonella']\n",
      "['MOZZARELLA', 'Cinderella']\n",
      "['Harry', 'Ron', 'Hermione']\n",
      "5\n"
     ]
    }
   ],
   "source": [
    "# Chapter 7\n",
    "\n",
    "# 7.4 Create the list\n",
    "things = [\"mozzarella\", \"cinderella\", \"salmonella\"]\n",
    "print(things)  # Output: ['mozzarella', 'cinderella', 'salmonella']\n",
    "\n",
    "# 7.5 Capitalize the element referring to a person\n",
    "things[1] = things[1].capitalize()\n",
    "print(things)  # Output: ['mozzarella', 'Cinderella', 'salmonella']\n",
    "\n",
    "# 7.6 Make the cheesy element uppercase\n",
    "things[0] = things[0].upper()\n",
    "print(things)  # Output: ['MOZZARELLA', 'Cinderella', 'salmonella']\n",
    "\n",
    "# 7.7 Delete the disease element\n",
    "things.remove(\"salmonella\")\n",
    "print(things)  # Output: ['MOZZARELLA', 'Cinderella']\n",
    "\n",
    "# Chapter 9\n",
    "\n",
    "# 9.1 Define the function good()\n",
    "def good():\n",
    "    return ['Harry', 'Ron', 'Hermione']\n",
    "\n",
    "# Test the function\n",
    "print(good())  # Output: ['Harry', 'Ron', 'Hermione']\n",
    "\n",
    "# 9.2 Define the generator function get_odds()\n",
    "def get_odds():\n",
    "    for number in range(10):\n",
    "        if number % 2 != 0:\n",
    "            yield number\n",
    "\n",
    "# Use a for loop to find and print the third value returned by the generator\n",
    "count = 0\n",
    "for odd in get_odds():\n",
    "    count += 1\n",
    "    if count == 3:\n",
    "        print(odd)  # Output: 5\n",
    "        break\n"
   ]
  },
  {
   "cell_type": "code",
   "execution_count": null,
   "id": "34409686-3b8f-4599-b862-9ad28daf88ac",
   "metadata": {},
   "outputs": [],
   "source": []
  }
 ],
 "metadata": {
  "kernelspec": {
   "display_name": "Python 3 (ipykernel)",
   "language": "python",
   "name": "python3"
  },
  "language_info": {
   "codemirror_mode": {
    "name": "ipython",
    "version": 3
   },
   "file_extension": ".py",
   "mimetype": "text/x-python",
   "name": "python",
   "nbconvert_exporter": "python",
   "pygments_lexer": "ipython3",
   "version": "3.11.7"
  }
 },
 "nbformat": 4,
 "nbformat_minor": 5
}
