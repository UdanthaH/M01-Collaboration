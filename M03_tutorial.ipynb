{
 "cells": [
  {
   "cell_type": "code",
   "execution_count": 1,
   "id": "00b9b13c-49fc-42b9-ac93-f50e71b6971b",
   "metadata": {},
   "outputs": [
    {
     "name": "stdout",
     "output_type": "stream",
     "text": [
      "Sorted array 1: [0, 0, 1, 2, 2]\n",
      "Sorted array 2: [0, 0, 1]\n",
      "Position of 4 in arr3: 3\n",
      "Position of 445 in arr4: -1\n"
     ]
    }
   ],
   "source": [
    "# Sort an array of 0s, 1s, and 2s\n",
    "def sort012(arr):\n",
    "    low = 0\n",
    "    mid = 0\n",
    "    high = len(arr) - 1\n",
    "    \n",
    "    while mid <= high:\n",
    "        if arr[mid] == 0:\n",
    "            arr[low], arr[mid] = arr[mid], arr[low]\n",
    "            low += 1\n",
    "            mid += 1\n",
    "        elif arr[mid] == 1:\n",
    "            mid += 1\n",
    "        else:\n",
    "            arr[mid], arr[high] = arr[high], arr[mid]\n",
    "            high -= 1\n",
    "\n",
    "# Perform binary search\n",
    "def binary_search(arr, N, K):\n",
    "    left, right = 0, N - 1\n",
    "    \n",
    "    while left <= right:\n",
    "        mid = left + (right - left) // 2\n",
    "        \n",
    "        if arr[mid] == K:\n",
    "            return mid\n",
    "        elif arr[mid] < K:\n",
    "            left = mid + 1\n",
    "        else:\n",
    "            right = mid - 1\n",
    "    \n",
    "    return -1  # K not found in the array\n",
    "\n",
    "def main():\n",
    "    # Sorting an array of 0s, 1s, and 2s\n",
    "    arr1 = [0, 2, 1, 2, 0]\n",
    "    sort012(arr1)\n",
    "    print(\"Sorted array 1:\", arr1)  # Output: [0, 0, 1, 2, 2]\n",
    "\n",
    "    arr2 = [0, 1, 0]\n",
    "    sort012(arr2)\n",
    "    print(\"Sorted array 2:\", arr2)  # Output: [0, 0, 1]\n",
    "\n",
    "    # Usage for binary search\n",
    "    arr3 = [1, 2, 3, 4, 5]\n",
    "    K1 = 4\n",
    "    result1 = binary_search(arr3, len(arr3), K1)\n",
    "    print(\"Position of\", K1, \"in arr3:\", result1)  # Output: 3\n",
    "\n",
    "    arr4 = [11, 22, 33, 44, 55]\n",
    "    K2 = 445\n",
    "    result2 = binary_search(arr4, len(arr4), K2)\n",
    "    print(\"Position of\", K2, \"in arr4:\", result2)  # Output: -1\n",
    "\n",
    "if __name__ == \"__main__\":\n",
    "    main()\n"
   ]
  },
  {
   "cell_type": "code",
   "execution_count": null,
   "id": "38827758-e619-4b9f-8ae2-0f5acaad3524",
   "metadata": {},
   "outputs": [],
   "source": []
  }
 ],
 "metadata": {
  "kernelspec": {
   "display_name": "Python 3 (ipykernel)",
   "language": "python",
   "name": "python3"
  },
  "language_info": {
   "codemirror_mode": {
    "name": "ipython",
    "version": 3
   },
   "file_extension": ".py",
   "mimetype": "text/x-python",
   "name": "python",
   "nbconvert_exporter": "python",
   "pygments_lexer": "ipython3",
   "version": "3.11.7"
  }
 },
 "nbformat": 4,
 "nbformat_minor": 5
}
